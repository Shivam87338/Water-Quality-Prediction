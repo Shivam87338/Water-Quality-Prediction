{
 "cells": [
  {
   "cell_type": "code",
   "execution_count": 7,
   "id": "b192fe48-d944-471d-8310-65df44d2e935",
   "metadata": {},
   "outputs": [
    {
     "name": "stdout",
     "output_type": "stream",
     "text": [
      "Water Pollutants Predictor\n",
      "Predict the water pollutants based on Year and Station ID\n"
     ]
    },
    {
     "name": "stdin",
     "output_type": "stream",
     "text": [
      "Enter year(between 2000 and 2100): 2025\n",
      "Enter Station ID(default = '1'):  22\n"
     ]
    },
    {
     "name": "stdout",
     "output_type": "stream",
     "text": [
      "\n",
      " Predicted pollutant levels for the station '22' in 2025:\n",
      " - O2:  14.18\n",
      " - NO3:  5.01\n",
      " - NO2:  0.04\n",
      " - SO4:  128.49\n",
      " - PO4:  0.49\n",
      " - CL:  64.78\n"
     ]
    }
   ],
   "source": [
    "#Import all the necessary libraries\n",
    "import pandas as pd\n",
    "import numpy as np\n",
    "import joblib\n",
    "import pickle\n",
    "\n",
    "#load dataset\n",
    "df = pd.read_csv('PB_All_2000_2021.csv')\n",
    "df.head()\n",
    "\n",
    "# Missing values\n",
    "df.isnull().sum()\n",
    "df.dtypes\n",
    "\n",
    "# Load the model and structure\n",
    "model = joblib.load(\"Pollution_model.pkl\")\n",
    "model_cols = joblib.load(\"model_columns.pkl\")\n",
    "\n",
    "# Let's create an user interface\n",
    "print(\"Water Pollutants Predictor\")\n",
    "print(\"Predict the water pollutants based on Year and Station ID\")\n",
    "\n",
    "# User inputs\n",
    "while True:\n",
    "    try:\n",
    "        year_input = int(input(\"Enter year(between 2000 and 2100):\"))\n",
    "        if 2000 <= year_input <= 2100:\n",
    "            break\n",
    "        else:\n",
    "            print(\"Please enter ayear between 2000 and 2100.\")\n",
    "    except ValueError:\n",
    "        print(\"Invalid input. Please enter a valid year .\")\n",
    "\n",
    "\n",
    "#for text input\n",
    "station_id = input(\"Enter Station ID(default = '1'): \")    \n",
    "\n",
    "# check if station_id is empty\n",
    "if not station_id.strip():\n",
    "    print(\"Please enter the station ID\")\n",
    "else:\n",
    "    # Prepare the input DataFrame\n",
    "    input_df = pd.DataFrame({'year': [year_input], 'id': [station_id]})\n",
    "    input_encoded = pd.get_dummies(input_df, columns=['id'])\n",
    "    \n",
    "    # Align with model columns\n",
    "    for col in model_cols:\n",
    "        if col not in input_encoded.columns:\n",
    "            input_encoded[col] = 0\n",
    "\n",
    "    input_encoded = input_encoded[model_cols]\n",
    "\n",
    "    # Predict \n",
    "    predicted_pollutants = model.predict(input_encoded)[0]\n",
    "    pollutants = ['O2', 'NO3', 'NO2', 'SO4', 'PO4', 'CL']\n",
    "\n",
    "    # Display results\n",
    "    print(f\"\\n Predicted pollutant levels for the station '{station_id}' in {year_input}:\")\n",
    "    for p, val in zip(pollutants, predicted_pollutants):\n",
    "        print(f\" - {p}:  {val:.2f}\")\n"
   ]
  },
  {
   "cell_type": "code",
   "execution_count": 3,
   "id": "66e5cd16-3bc3-418b-9831-4e93bd37cfd4",
   "metadata": {},
   "outputs": [
    {
     "data": {
      "image/png": "[encoded data removed]",
      "text/plain": [
       "<Figure size 800x400 with 1 Axes>"
      ]
     },
     "metadata": {},
     "output_type": "display_data"
    }
   ],
   "source": [
    "# Plot result\n",
    "import matplotlib.pyplot as plt\n",
    "pollutants = ['O2', 'NO3', 'NO2', 'SO4', 'PO4', 'CL']\n",
    "prediction = [12.14, 5.01, 9.04, 128.49, 2.49, 64.78]\n",
    "year_input = 2025\n",
    "station_input = 22\n",
    "\n",
    "plt.figure(figsize=(8,4))\n",
    "plt.bar(pollutants, prediction, color='skyblue')\n",
    "plt.title(f\"Predicted Pollutants - station {station_input}, Year {year_input}\")\n",
    "plt.ylabel(\"Concentration\")\n",
    "plt.grid(True)\n",
    "plt.show()"
   ]
  },
  {
   "cell_type": "code",
   "execution_count": null,
   "id": "c304560e-0fda-475c-8f49-bed812bc53f2",
   "metadata": {},
   "outputs": [],
   "source": []
  }
 ],
 "metadata": {
  "kernelspec": {
   "display_name": "Python 3 (ipykernel)",
   "language": "python",
   "name": "python3"
  },
  "language_info": {
   "codemirror_mode": {
    "name": "ipython",
    "version": 3
   },
   "file_extension": ".py",
   "mimetype": "text/x-python",
   "name": "python",
   "nbconvert_exporter": "python",
   "pygments_lexer": "ipython3",
   "version": "3.12.7"
  }
 },
 "nbformat": 4,
 "nbformat_minor": 5
}
